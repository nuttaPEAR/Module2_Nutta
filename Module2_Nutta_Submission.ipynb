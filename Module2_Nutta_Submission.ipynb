{
 "cells": [
  {
   "cell_type": "markdown",
   "id": "94867ccd",
   "metadata": {},
   "source": [
    "# AH2179 Applied AI in Transportation\n",
    "## Module 2: Use regression models to predict bus arrival delays\n",
    "### Nutta Sittirash"
   ]
  },
  {
   "cell_type": "code",
   "execution_count": 1,
   "id": "bb2a314a",
   "metadata": {
    "scrolled": true
   },
   "outputs": [],
   "source": [
    "import pandas as pd\n",
    "%matplotlib inline\n",
    "import matplotlib.pyplot as plt\n",
    "import seaborn as sns\n",
    "import numpy as np\n",
    "sns.set()"
   ]
  },
  {
   "cell_type": "code",
   "execution_count": 2,
   "id": "d54b7df0",
   "metadata": {},
   "outputs": [
    {
     "data": {
      "text/html": [
       "<div>\n",
       "<style scoped>\n",
       "    .dataframe tbody tr th:only-of-type {\n",
       "        vertical-align: middle;\n",
       "    }\n",
       "\n",
       "    .dataframe tbody tr th {\n",
       "        vertical-align: top;\n",
       "    }\n",
       "\n",
       "    .dataframe thead th {\n",
       "        text-align: right;\n",
       "    }\n",
       "</style>\n",
       "<table border=\"1\" class=\"dataframe\">\n",
       "  <thead>\n",
       "    <tr style=\"text-align: right;\">\n",
       "      <th></th>\n",
       "      <th>Arrival_time</th>\n",
       "      <th>Stop_id</th>\n",
       "      <th>Bus_id</th>\n",
       "      <th>Line_id</th>\n",
       "      <th>Arrival_delay</th>\n",
       "      <th>Dwell_time</th>\n",
       "      <th>Scheduled_travel_time</th>\n",
       "      <th>Upstream_stop_delay</th>\n",
       "      <th>Recurrent_delay</th>\n",
       "    </tr>\n",
       "  </thead>\n",
       "  <tbody>\n",
       "    <tr>\n",
       "      <th>0</th>\n",
       "      <td>01/05/2022 07:03</td>\n",
       "      <td>10033</td>\n",
       "      <td>41355</td>\n",
       "      <td>1</td>\n",
       "      <td>-23</td>\n",
       "      <td>0</td>\n",
       "      <td>39</td>\n",
       "      <td>-4</td>\n",
       "      <td>28.641509</td>\n",
       "    </tr>\n",
       "    <tr>\n",
       "      <th>1</th>\n",
       "      <td>01/05/2022 07:21</td>\n",
       "      <td>10033</td>\n",
       "      <td>41356</td>\n",
       "      <td>1</td>\n",
       "      <td>168</td>\n",
       "      <td>0</td>\n",
       "      <td>39</td>\n",
       "      <td>181</td>\n",
       "      <td>27.880597</td>\n",
       "    </tr>\n",
       "    <tr>\n",
       "      <th>2</th>\n",
       "      <td>01/05/2022 07:37</td>\n",
       "      <td>10033</td>\n",
       "      <td>44400</td>\n",
       "      <td>1</td>\n",
       "      <td>231</td>\n",
       "      <td>0</td>\n",
       "      <td>39</td>\n",
       "      <td>244</td>\n",
       "      <td>27.852941</td>\n",
       "    </tr>\n",
       "    <tr>\n",
       "      <th>3</th>\n",
       "      <td>01/05/2022 07:50</td>\n",
       "      <td>10033</td>\n",
       "      <td>44399</td>\n",
       "      <td>1</td>\n",
       "      <td>150</td>\n",
       "      <td>17</td>\n",
       "      <td>39</td>\n",
       "      <td>143</td>\n",
       "      <td>27.826087</td>\n",
       "    </tr>\n",
       "    <tr>\n",
       "      <th>4</th>\n",
       "      <td>01/05/2022 19:29</td>\n",
       "      <td>10033</td>\n",
       "      <td>44060</td>\n",
       "      <td>1</td>\n",
       "      <td>965</td>\n",
       "      <td>35</td>\n",
       "      <td>51</td>\n",
       "      <td>947</td>\n",
       "      <td>42.029412</td>\n",
       "    </tr>\n",
       "    <tr>\n",
       "      <th>5</th>\n",
       "      <td>01/05/2022 19:58</td>\n",
       "      <td>10033</td>\n",
       "      <td>41351</td>\n",
       "      <td>1</td>\n",
       "      <td>33</td>\n",
       "      <td>19</td>\n",
       "      <td>46</td>\n",
       "      <td>30</td>\n",
       "      <td>38.970588</td>\n",
       "    </tr>\n",
       "    <tr>\n",
       "      <th>6</th>\n",
       "      <td>01/05/2022 20:14</td>\n",
       "      <td>10033</td>\n",
       "      <td>44399</td>\n",
       "      <td>1</td>\n",
       "      <td>75</td>\n",
       "      <td>26</td>\n",
       "      <td>46</td>\n",
       "      <td>63</td>\n",
       "      <td>38.840580</td>\n",
       "    </tr>\n",
       "    <tr>\n",
       "      <th>7</th>\n",
       "      <td>01/05/2022 20:28</td>\n",
       "      <td>10033</td>\n",
       "      <td>41356</td>\n",
       "      <td>1</td>\n",
       "      <td>58</td>\n",
       "      <td>15</td>\n",
       "      <td>46</td>\n",
       "      <td>52</td>\n",
       "      <td>34.059701</td>\n",
       "    </tr>\n",
       "    <tr>\n",
       "      <th>8</th>\n",
       "      <td>01/05/2022 20:57</td>\n",
       "      <td>10033</td>\n",
       "      <td>44060</td>\n",
       "      <td>1</td>\n",
       "      <td>904</td>\n",
       "      <td>35</td>\n",
       "      <td>46</td>\n",
       "      <td>888</td>\n",
       "      <td>34.102941</td>\n",
       "    </tr>\n",
       "    <tr>\n",
       "      <th>9</th>\n",
       "      <td>01/05/2022 21:00</td>\n",
       "      <td>10033</td>\n",
       "      <td>41357</td>\n",
       "      <td>1</td>\n",
       "      <td>141</td>\n",
       "      <td>12</td>\n",
       "      <td>46</td>\n",
       "      <td>140</td>\n",
       "      <td>34.000000</td>\n",
       "    </tr>\n",
       "  </tbody>\n",
       "</table>\n",
       "</div>"
      ],
      "text/plain": [
       "       Arrival_time  Stop_id  Bus_id  Line_id  Arrival_delay  Dwell_time  \\\n",
       "0  01/05/2022 07:03    10033   41355        1            -23           0   \n",
       "1  01/05/2022 07:21    10033   41356        1            168           0   \n",
       "2  01/05/2022 07:37    10033   44400        1            231           0   \n",
       "3  01/05/2022 07:50    10033   44399        1            150          17   \n",
       "4  01/05/2022 19:29    10033   44060        1            965          35   \n",
       "5  01/05/2022 19:58    10033   41351        1             33          19   \n",
       "6  01/05/2022 20:14    10033   44399        1             75          26   \n",
       "7  01/05/2022 20:28    10033   41356        1             58          15   \n",
       "8  01/05/2022 20:57    10033   44060        1            904          35   \n",
       "9  01/05/2022 21:00    10033   41357        1            141          12   \n",
       "\n",
       "   Scheduled_travel_time  Upstream_stop_delay  Recurrent_delay  \n",
       "0                     39                   -4        28.641509  \n",
       "1                     39                  181        27.880597  \n",
       "2                     39                  244        27.852941  \n",
       "3                     39                  143        27.826087  \n",
       "4                     51                  947        42.029412  \n",
       "5                     46                   30        38.970588  \n",
       "6                     46                   63        38.840580  \n",
       "7                     46                   52        34.059701  \n",
       "8                     46                  888        34.102941  \n",
       "9                     46                  140        34.000000  "
      ]
     },
     "execution_count": 2,
     "metadata": {},
     "output_type": "execute_result"
    }
   ],
   "source": [
    "url = 'https://raw.githubusercontent.com/zhenliangma/Applied-AI-in-Transportation/master/Exercise_2_regression_model/Exercise2BusData.csv'\n",
    "df = pd.read_csv(url)\n",
    "df.head(10)"
   ]
  },
  {
   "cell_type": "code",
   "execution_count": 3,
   "id": "6945d9d2",
   "metadata": {
    "scrolled": true
   },
   "outputs": [
    {
     "name": "stdout",
     "output_type": "stream",
     "text": [
      "<class 'pandas.core.frame.DataFrame'>\n",
      "RangeIndex: 2179 entries, 0 to 2178\n",
      "Data columns (total 9 columns):\n",
      " #   Column                 Non-Null Count  Dtype  \n",
      "---  ------                 --------------  -----  \n",
      " 0   Arrival_time           2179 non-null   object \n",
      " 1   Stop_id                2179 non-null   int64  \n",
      " 2   Bus_id                 2179 non-null   int64  \n",
      " 3   Line_id                2179 non-null   int64  \n",
      " 4   Arrival_delay          2179 non-null   int64  \n",
      " 5   Dwell_time             2179 non-null   int64  \n",
      " 6   Scheduled_travel_time  2179 non-null   int64  \n",
      " 7   Upstream_stop_delay    2179 non-null   int64  \n",
      " 8   Recurrent_delay        2179 non-null   float64\n",
      "dtypes: float64(1), int64(7), object(1)\n",
      "memory usage: 153.3+ KB\n"
     ]
    }
   ],
   "source": [
    "df.info()"
   ]
  },
  {
   "cell_type": "code",
   "execution_count": 4,
   "id": "87afafa3",
   "metadata": {},
   "outputs": [],
   "source": [
    "# Use only 1xxx records\n",
    "#df = df.iloc[:1500]"
   ]
  },
  {
   "cell_type": "code",
   "execution_count": 5,
   "id": "a147d0b5",
   "metadata": {},
   "outputs": [],
   "source": [
    "# Remove unneeded columns which are basic information and remain only operation information\n",
    "df = df.drop(['Arrival_time', 'Stop_id','Bus_id','Line_id'], axis=1)"
   ]
  },
  {
   "cell_type": "code",
   "execution_count": 16,
   "id": "33d27b35",
   "metadata": {
    "scrolled": false
   },
   "outputs": [],
   "source": [
    "# df.describe()"
   ]
  },
  {
   "cell_type": "code",
   "execution_count": 7,
   "id": "35abe540",
   "metadata": {
    "scrolled": false
   },
   "outputs": [
    {
     "data": {
      "image/png": "[encoded data removed]",
      "text/plain": [
       "<Figure size 576x576 with 2 Axes>"
      ]
     },
     "metadata": {},
     "output_type": "display_data"
    }
   ],
   "source": [
    "corr_matrix = df.corr()\n",
    "corr_matrix['Arrival_delay'].sort_values(ascending=False)\n",
    "plt.subplots(figsize=(8,8))\n",
    "corr = df.corr()\n",
    "sns.heatmap(corr, annot = True)\n",
    "plt.title(\"Correlation matrix of numerical features\")\n",
    "plt.tight_layout()\n",
    "plt.show()"
   ]
  },
  {
   "cell_type": "markdown",
   "id": "dcb6bd7f",
   "metadata": {},
   "source": [
    "### Side Note:\n",
    "The correlation matrix indicates that Upstream_stop_delay has strongly influenced Arrival_delay at Linnégatan.\\\n",
    "Bus line 1 starts at Essingetorget and end at Frihamnen. \n",
    "From the dataset (the arrival delays at Linnégatan), the upstrean station of it would be Humlegården and the downstream would be Stureplan. "
   ]
  },
  {
   "cell_type": "code",
   "execution_count": 8,
   "id": "e7caf14b",
   "metadata": {},
   "outputs": [],
   "source": [
    "# Define y as dependent variables and the others as x independent variables\n",
    "x = df.drop(['Arrival_delay'], axis = 1)\n",
    "y = df['Arrival_delay']"
   ]
  },
  {
   "cell_type": "markdown",
   "id": "d305c459",
   "metadata": {},
   "source": [
    "### Creating and training the model using XGBoost "
   ]
  },
  {
   "cell_type": "code",
   "execution_count": 17,
   "id": "027b2a05",
   "metadata": {
    "scrolled": true
   },
   "outputs": [
    {
     "name": "stdout",
     "output_type": "stream",
     "text": [
      "Mean Absolute Error: 11.872192595735056\n",
      "Mean Squared Error: 263.8666340613594\n",
      "R-squared: 0.991151341394846\n"
     ]
    }
   ],
   "source": [
    "import xgboost as xgb\n",
    "from sklearn.model_selection import cross_val_score\n",
    "from sklearn.model_selection import GridSearchCV, train_test_split\n",
    "from sklearn.model_selection import train_test_split\n",
    "from sklearn.metrics import mean_absolute_error, mean_squared_error, r2_score\n",
    "\n",
    "# XGBoost Regressor Model\n",
    "model = xgb.XGBRegressor(objective='reg:squarederror', random_state = 42)\n",
    "\n",
    "# Avoid random seeds to effect the outcomes\n",
    "cross_val_score(model, x, y, cv=5).mean()\n",
    "\n",
    "# Split the dataset into a training and a test dataset\n",
    "X_train, X_test, y_train, y_test = train_test_split(x, y, test_size=0.2, random_state = 42)\n",
    "\n",
    "# Fit the model to the training data\n",
    "model.fit(X_train, y_train)\n",
    "\n",
    "# Evaluate the model\n",
    "y_pred = model.predict(X_test)\n",
    "mae = mean_absolute_error(y_test, y_pred)\n",
    "mse = mean_squared_error(y_test, y_pred)\n",
    "r2 = r2_score(y_test, y_pred)\n",
    "\n",
    "print(f\"Mean Absolute Error: {mae}\")\n",
    "print(f\"Mean Squared Error: {mse}\")\n",
    "print(f\"R-squared: {r2}\")"
   ]
  },
  {
   "cell_type": "markdown",
   "id": "9d721cec",
   "metadata": {},
   "source": [
    "### Applying model training teachniques (SVM)\n",
    "\n",
    "Hyperparameter Tuning"
   ]
  },
  {
   "cell_type": "code",
   "execution_count": 10,
   "id": "bb6ecbd5",
   "metadata": {
    "scrolled": false
   },
   "outputs": [],
   "source": [
    "# Normallize the features\n",
    "from sklearn.preprocessing import StandardScaler\n",
    "scaler = StandardScaler()\n",
    "\n",
    "#from sklearn.preprocessing import MinMaxScaler\n",
    "#scaler = MinMaxScaler()\n",
    "\n",
    "X_train_scaled = scaler.fit_transform(X_train)\n",
    "X_test_scaled = scaler.transform(X_test)\n",
    "\n",
    "param_grid = {   # Define parameters grid for hyperparameter tuning\n",
    "    #'n_estimators': [1800, 1900, 2179],\n",
    "    #'learning_rate': [0.01, 0.02, 0.03],\n",
    "    #'max_depth': [1, 2, 3],\n",
    "    #'gamma': [0, 0.01, 0.25],\n",
    "    #'min_child_weight': [1, 2, 3]\n",
    "    'n_estimators': [2179],        \n",
    "    'learning_rate': [0.03],\n",
    "    'max_depth': [1],\n",
    "    'gamma': [0],                 # a third value affects accuracy\n",
    "    'min_child_weight': [1]       # Control overfitting to determine how many data points in a leaf node\n",
    "}\n",
    "# Create the GridSearchCV object\n",
    "grid_search = GridSearchCV(estimator=model, param_grid = param_grid, cv=5, scoring='neg_mean_squared_error')\n",
    "grid_search.fit(X_train_scaled, y_train) # Fit the grid search to the scaled training\n",
    "\n",
    "best_params = grid_search.best_params_   # Get the best parameters"
   ]
  },
  {
   "cell_type": "markdown",
   "id": "35aedc91",
   "metadata": {},
   "source": [
    "#### Implementing the model by considering the best parameters\n",
    "#### Make prediction"
   ]
  },
  {
   "cell_type": "code",
   "execution_count": 11,
   "id": "dba45721",
   "metadata": {},
   "outputs": [
    {
     "name": "stdout",
     "output_type": "stream",
     "text": [
      "Best Parameters: {'gamma': 0, 'learning_rate': 0.03, 'max_depth': 1, 'min_child_weight': 1, 'n_estimators': 2179}\n"
     ]
    }
   ],
   "source": [
    "optimal_model = xgb.XGBRegressor(objective='reg:squarederror', random_state = 42, ** best_params)\n",
    "optimal_model.fit(X_train_scaled, y_train)\n",
    "y_pred = optimal_model.predict(X_test_scaled)\n",
    "print(\"Best Parameters:\", best_params)"
   ]
  },
  {
   "cell_type": "code",
   "execution_count": 12,
   "id": "b992694f",
   "metadata": {},
   "outputs": [
    {
     "name": "stdout",
     "output_type": "stream",
     "text": [
      "Mean Absolute Error: 10.625621887043529\n",
      "Mean Squared Error: 201.41451049303882\n",
      "Root Mean Squared Error: 14.192058007668896\n",
      "R-squaed: 0.9932456475680715\n"
     ]
    }
   ],
   "source": [
    "MAE = mean_absolute_error(y_test, y_pred)\n",
    "MSE = mean_squared_error(y_test, y_pred)\n",
    "RMSE = np.sqrt(MSE)\n",
    "R2 = r2_score(y_test, y_pred)\n",
    "print(\"Mean Absolute Error:\", MAE)\n",
    "print(\"Mean Squared Error:\", MSE)\n",
    "print(\"Root Mean Squared Error:\", RMSE)\n",
    "print(\"R-squaed:\", R2)"
   ]
  },
  {
   "cell_type": "markdown",
   "id": "26be4c7b",
   "metadata": {},
   "source": [
    "### Visualize the results"
   ]
  },
  {
   "cell_type": "code",
   "execution_count": 14,
   "id": "0b57bfd3",
   "metadata": {
    "scrolled": false
   },
   "outputs": [
    {
     "data": {
      "image/png": "[encoded data removed]",
      "text/plain": [
       "<Figure size 576x432 with 1 Axes>"
      ]
     },
     "metadata": {},
     "output_type": "display_data"
    }
   ],
   "source": [
    "plt.figure(figsize=(8, 6))\n",
    "plt.scatter(y_test,y_pred, alpha = 0.5)\n",
    "plt.xlabel(\"Actual Values\")\n",
    "plt.ylabel(\"Predicted Values\")\n",
    "plt.title(\"Actual vs Predicted Values\")\n",
    "plt.plot([min(y_test), max(y_test)], [min(y_test), max(y_test)], linestyle='-', color='red', lw='2')\n",
    "plt.show()"
   ]
  },
  {
   "cell_type": "markdown",
   "id": "6ddd23c2",
   "metadata": {},
   "source": [
    "#### Side note\n",
    "\n",
    "#### With the data of 1000 records \n",
    "\n",
    "**when using StandardScaler, the results are as follow.** \n",
    "\n",
    "Best Hyperparameters: {'learning_rate': 0.01, 'max_depth': 3, 'n_estimators': 100}\\\n",
    "Test Mean Squared Error: 231.78658320452294\\\n",
    "R-squaed: 0.9906780908247284\n",
    "\n",
    "**when using MinMaxScaler, the results are as follow.** \n",
    "\n",
    "Best Hyperparameters: {'learning_rate': 0.01, 'max_depth': 3, 'n_estimators': 100}\\\n",
    "Test Mean Squared Error: 232.52210566630143\\\n",
    "R-squaed: 0.9906485098477353\n",
    "\n",
    "**without normalization the data, the results are as follow.** (same as normalized data)\n",
    "\n",
    "Best Hyperparameters: {'learning_rate': 0.01, 'max_depth': 3, 'n_estimators': 100}\\\n",
    "Test Mean Squared Error: 231.78658320452294\\\n",
    "R-squaed: 0.9906780908247284\n",
    "\n",
    "**when using 3000 trees**\\\n",
    "Best Hyperparameters: {'learning_rate': 0.01, 'max_depth': 1, 'n_estimators': 3000}\\\n",
    "Mean Squared Error: 214.38751682154071\\\n",
    "Root Mean Squared Error: 14.641977899913\\\n",
    "R-squaed: 0.9913778401989773\\\n",
    "**However, it doesn't make sense to use 3000 trees in 1000 records of the data**\n",
    "\n",
    "#### With the data of the whole records \n",
    "\n",
    "**With the data of the whole records, 2179**\\\n",
    "Best Hyperparameters: {'learning_rate': 0.1, 'max_depth': 1, 'n_estimators': 2179}\\\n",
    "Mean Squared Error: 215.492871490921\\\n",
    "Root Mean Squared Error: 14.67967545591254\\\n",
    "R-squaed: 0.9927735355458998\n",
    "\n",
    "### Final results\n",
    "**When adopting SVM and considering more parameters in GridSearchCV**\\\n",
    "Best Parameters: {'gamma': 0, 'learning_rate': 0.03, 'max_depth': 1, 'min_child_weight': 1, 'n_estimators': 2179}\\\n",
    "Mean Absolute Error: 10.625621887043529\\\n",
    "Mean Squared Error: 201.41451049303882\\\n",
    "Root Mean Squared Error: 14.192058007668896\\\n",
    "R-squaed: 0.9932456475680715\n"
   ]
  }
 ],
 "metadata": {
  "kernelspec": {
   "display_name": "Python 3 (ipykernel)",
   "language": "python",
   "name": "python3"
  },
  "language_info": {
   "codemirror_mode": {
    "name": "ipython",
    "version": 3
   },
   "file_extension": ".py",
   "mimetype": "text/x-python",
   "name": "python",
   "nbconvert_exporter": "python",
   "pygments_lexer": "ipython3",
   "version": "3.9.12"
  }
 },
 "nbformat": 4,
 "nbformat_minor": 5
}
